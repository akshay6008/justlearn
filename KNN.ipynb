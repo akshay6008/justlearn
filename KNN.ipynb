{
 "cells": [
  {
   "cell_type": "markdown",
   "id": "desperate-fundamentals",
   "metadata": {},
   "source": [
    "# KNN programe Basic"
   ]
  },
  {
   "cell_type": "code",
   "execution_count": 4,
   "id": "unlike-trance",
   "metadata": {},
   "outputs": [],
   "source": [
    "def main(): \n",
    "    \n",
    "    data = {0:[(1,12,5),(2,5,8),(3,6,9),(3,10,6),(3.5,8,2.9),(2,11,4.6),(2,9,9.5),(1,7,5)], \n",
    "              1:[(5,3,5.4),(3,2.7,5),(1.5,9,2.9),(7,2,2.9),(6,1,4.8),(3.8,1,5.9),(5.6,4,6),(4,2,5),(2,5,1)]\n",
    "                 } \n",
    "  \n",
    "    # testing point p(x,y,z) \n",
    "    p = (2,5,8)    # change co-ordinates    \n",
    "  \n",
    "    # Number of neighbours  \n",
    "    k = 2\n",
    "  \n",
    "    print(\"The value differentiated to point 'P' is: {}\".\\\n",
    "          format(differentiator(data, p, k))) \n",
    "#     here we are calling a  'differentiator' a function.\n",
    "#     that will do all calcutations of euclidean distances.\n",
    "#     it will also store values of each point from point 'p' to another points\n"
   ]
  },
  {
   "cell_type": "code",
   "execution_count": 5,
   "id": "distinguished-suspension",
   "metadata": {},
   "outputs": [],
   "source": [
    "import math\n",
    "\n",
    "def differentiator(data,p,k=2):\n",
    "    distance = []\n",
    "    for group in data:\n",
    "        print(group)\n",
    "        for feature in data[group]:\n",
    "            print(feature)\n",
    "            euclidean_distance = math.sqrt((feature[0]-p[0])**2 +(feature[1]-p[1])**2 +(feature[2]-p[2])**2)\n",
    "            \n",
    "            distance.append((euclidean_distance,group))\n",
    "            \n",
    "    distance = sorted(distance)[:k]\n",
    "    \n",
    "    freq1 = 0\n",
    "    freq2 = 0\n",
    " \n",
    "    \n",
    "    for d in distance:\n",
    "        if d[0] == 0:\n",
    "            \n",
    "            freq1 += 1\n",
    "            \n",
    "        elif d[1] == 1:\n",
    "            \n",
    "            freq2 += 1 \n",
    "            \n",
    "    return 0 if freq1 > freq2 else 1"
   ]
  },
  {
   "cell_type": "code",
   "execution_count": 6,
   "id": "dominant-spending",
   "metadata": {},
   "outputs": [
    {
     "name": "stdout",
     "output_type": "stream",
     "text": [
      "0\n",
      "(1, 12, 5)\n",
      "(2, 5, 8)\n",
      "(3, 6, 9)\n",
      "(3, 10, 6)\n",
      "(3.5, 8, 2.9)\n",
      "(2, 11, 4.6)\n",
      "(2, 9, 9.5)\n",
      "(1, 7, 5)\n",
      "1\n",
      "(5, 3, 5.4)\n",
      "(3, 2.7, 5)\n",
      "(1.5, 9, 2.9)\n",
      "(7, 2, 2.9)\n",
      "(6, 1, 4.8)\n",
      "(3.8, 1, 5.9)\n",
      "(5.6, 4, 6)\n",
      "(4, 2, 5)\n",
      "(2, 5, 1)\n",
      "The value differentiated to point 'P' is: 0\n"
     ]
    }
   ],
   "source": [
    "if __name__ == '__main__': \n",
    "    \n",
    "    main() "
   ]
  },
  {
   "cell_type": "code",
   "execution_count": null,
   "id": "prescribed-cambridge",
   "metadata": {},
   "outputs": [],
   "source": []
  }
 ],
 "metadata": {
  "kernelspec": {
   "display_name": "Python 3",
   "language": "python",
   "name": "python3"
  },
  "language_info": {
   "codemirror_mode": {
    "name": "ipython",
    "version": 3
   },
   "file_extension": ".py",
   "mimetype": "text/x-python",
   "name": "python",
   "nbconvert_exporter": "python",
   "pygments_lexer": "ipython3",
   "version": "3.8.8"
  }
 },
 "nbformat": 4,
 "nbformat_minor": 5
}
